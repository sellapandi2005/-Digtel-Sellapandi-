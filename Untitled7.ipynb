{
  "nbformat": 4,
  "nbformat_minor": 0,
  "metadata": {
    "colab": {
      "provenance": [],
      "gpuType": "T4",
      "authorship_tag": "ABX9TyORgLA4QQxGz2ARhbMJGQJI",
      "include_colab_link": true
    },
    "kernelspec": {
      "name": "python3",
      "display_name": "Python 3"
    },
    "language_info": {
      "name": "python"
    },
    "accelerator": "GPU"
  },
  "cells": [
    {
      "cell_type": "markdown",
      "metadata": {
        "id": "view-in-github",
        "colab_type": "text"
      },
      "source": [
        "<a href=\"https://colab.research.google.com/github/sellapandi2005/-Digtel-Sellapandi-/blob/main/Untitled7.ipynb\" target=\"_parent\"><img src=\"https://colab.research.google.com/assets/colab-badge.svg\" alt=\"Open In Colab\"/></a>"
      ]
    },
    {
      "cell_type": "code",
      "execution_count": 3,
      "metadata": {
        "colab": {
          "base_uri": "https://localhost:8080/",
          "height": 611
        },
        "id": "e7sr3nIz1FMo",
        "outputId": "53fb2575-3718-4362-9f67-e4cf7abdead4"
      },
      "outputs": [
        {
          "output_type": "stream",
          "name": "stdout",
          "text": [
            "Colab notebook detected. To show errors in colab notebook, set debug=True in launch()\n",
            "* Running on public URL: https://90999ed2f74d233382.gradio.live\n",
            "\n",
            "This share link expires in 1 week. For free permanent hosting and GPU upgrades, run `gradio deploy` from the terminal in the working directory to deploy to Hugging Face Spaces (https://huggingface.co/spaces)\n"
          ]
        },
        {
          "output_type": "display_data",
          "data": {
            "text/plain": [
              "<IPython.core.display.HTML object>"
            ],
            "text/html": [
              "<div><iframe src=\"https://90999ed2f74d233382.gradio.live\" width=\"100%\" height=\"500\" allow=\"autoplay; camera; microphone; clipboard-read; clipboard-write;\" frameborder=\"0\" allowfullscreen></iframe></div>"
            ]
          },
          "metadata": {}
        },
        {
          "output_type": "execute_result",
          "data": {
            "text/plain": []
          },
          "metadata": {},
          "execution_count": 3
        }
      ],
      "source": [
        "import gradio as gr\n",
        "\n",
        "def generate_response(prompt, max_length=500):\n",
        "    # Placeholder for your actual model interaction\n",
        "    # Replace with your model's API call\n",
        "    return f\"Generated response for: {prompt[:100]}...\" # Simplified placeholder\n",
        "\n",
        "def extract_text_from_pdf(pdf_file):\n",
        "    # Placeholder for PDF text extraction\n",
        "    # You'll need to install a library like PyPDF2 or pdfminer.six\n",
        "    return \"Extracted text from PDF placeholder.\" # Simplified placeholder\n",
        "\n",
        "def eco_tips_generator(problem_keywords):\n",
        "    prompt = f\"Generate practical and actionable tips for sustainable living related to: {problem_keywords}. Provide specific solutions and suggestions:\"\n",
        "    return generate_response(prompt, max_length=1000)\n",
        "\n",
        "def policy_summarization(pdf_file, policy_text):\n",
        "    # Get text from PDF or direct input\n",
        "    if pdf_file is not None:\n",
        "        content = extract_text_from_pdf(pdf_file)\n",
        "        summary_prompt = f\"Summarize the following policy document and extract the most important points, key provisions, and implications:\\n\\n{content}\"\n",
        "    else:\n",
        "        summary_prompt = f\"Summarize the following policy document and extract the most important points, key provisions and implications:\\n\\n{policy_text}\"\n",
        "\n",
        "    return generate_response(summary_prompt, max_length=1200)\n",
        "\n",
        "# Create Gradio interface\n",
        "with gr.Blocks() as app:\n",
        "    gr.Markdown(\"# Eco Assistant & Policy Analyzer\")\n",
        "\n",
        "    with gr.Tabs():\n",
        "        with gr.TabItem(\"Eco Tips Generator\"):\n",
        "            with gr.Row():\n",
        "                with gr.Column():\n",
        "                    keywords_input = gr.Textbox(\n",
        "                        label=\"Environmental Problem/Keywords\",\n",
        "                        placeholder=\"e.g., plastic, solar, water waste, energy saving...\",\n",
        "                        lines=3\n",
        "                    )\n",
        "                    generate_tips_btn = gr.Button(\"Generate Eco Tips\")\n",
        "\n",
        "                with gr.Column():\n",
        "                    tips_output = gr.Textbox(label=\"Sustainable Living Tips\", lines=15)\n",
        "\n",
        "            generate_tips_btn.click(eco_tips_generator, inputs=keywords_input, outputs=tips_output)\n",
        "\n",
        "        with gr.TabItem(\"Policy Summarization\"):\n",
        "            with gr.Row():\n",
        "                with gr.Column():\n",
        "                    pdf_upload = gr.File(label=\"Upload Policy PDF\", file_types=[\".pdf\"])\n",
        "                    policy_text_input = gr.Textbox(\n",
        "                        label=\"Or paste policy text here\",\n",
        "                        placeholder=\"Paste policy document text...\",\n",
        "                        lines=5\n",
        "                    )\n",
        "                    summarize_btn = gr.Button(\"Summarize Policy\")\n",
        "\n",
        "                with gr.Column():\n",
        "                    summary_output = gr.Textbox(label=\"Policy Summary & Key Points\", lines=20)\n",
        "\n",
        "            summarize_btn.click(policy_summarization, inputs=[pdf_upload, policy_text_input], outputs=summary_output)\n",
        "\n",
        "app.launch(share=True)"
      ]
    }
  ]
}